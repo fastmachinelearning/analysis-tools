{
 "cells": [
  {
   "cell_type": "code",
   "execution_count": 22,
   "metadata": {
    "collapsed": true
   },
   "outputs": [],
   "source": [
    "import pandas\n",
    "import matplotlib\n",
    "import matplotlib.pyplot as plt"
   ]
  },
  {
   "cell_type": "code",
   "execution_count": null,
   "metadata": {
    "collapsed": true
   },
   "outputs": [],
   "source": [
    "df = pandas.read_csv(\"output.csv\")\n",
    "df"
   ]
  },
  {
   "cell_type": "code",
   "execution_count": 35,
   "metadata": {},
   "outputs": [
    {
     "data": {
      "image/png": "[encoded data removed]",
      "text/plain": [
       "<matplotlib.figure.Figure at 0x10b1ee450>"
      ]
     },
     "metadata": {},
     "output_type": "display_data"
    }
   ],
   "source": [
    "df.loc[:,'Precision'] = df['DefaultPrecision'].str.strip(\"ap_fixed\")\n",
    "plotlist = ['DSP48E', 'Latency', 'LUT', 'Interval', 'FF', 'Timing']\n",
    "fig, ax = plt.subplots()\n",
    "ax.autoscale(True, axis='y')\n",
    "for t in plotlist:\n",
    "    ax.clear()\n",
    "    maxx = minn = []\n",
    "    for i in range(1, 7):\n",
    "        dff = df[df.ReuseFactor == i]\n",
    "        maxx.append(dff[t].max())\n",
    "        minn.append(dff[t].min())\n",
    "        dff.plot('Precision', t, ax = ax, title =t, label= \"Reuse%d\" % i)\n",
    "    ax.set_ylim( 0.5*min(minn), 1.5*max(maxx))\n",
    "    pltt = ax.get_figure()\n",
    "    pltt.savefig(\"%s.pdf\" % t)\n",
    "    pltt.savefig(\"%s.png\" % t)"
   ]
  },
  {
   "cell_type": "code",
   "execution_count": null,
   "metadata": {
    "collapsed": true
   },
   "outputs": [],
   "source": []
  }
 ],
 "metadata": {
  "kernelspec": {
   "display_name": "Python 2",
   "language": "python",
   "name": "python2"
  },
  "language_info": {
   "codemirror_mode": {
    "name": "ipython",
    "version": 2
   },
   "file_extension": ".py",
   "mimetype": "text/x-python",
   "name": "python",
   "nbconvert_exporter": "python",
   "pygments_lexer": "ipython2",
   "version": "2.7.10"
  }
 },
 "nbformat": 4,
 "nbformat_minor": 2
}
